{
  "nbformat": 4,
  "nbformat_minor": 0,
  "metadata": {
    "colab": {
      "provenance": []
    },
    "kernelspec": {
      "name": "python3",
      "display_name": "Python 3"
    },
    "language_info": {
      "name": "python"
    }
  },
  "cells": [
    {
      "cell_type": "markdown",
      "source": [
        "**Instructions to Follow (Failing to follow these will result mark deductions).**\n",
        "1. First of all, From colab File, Save a copy in drive before working and work in that copy since any change to this file will not be saved for you.\n",
        "2. You can not use any built-in function except len()\n",
        "\n",
        "3. You can not use any other python collections except array (e.g: tuple, dictionaries etc.).\n",
        "\n",
        "4. We will initialize a new array using numpy library. We have to mention the fixed size during initialization. There might be 4 approaches.\n",
        "\n",
        " i. arr = np.array([None] * 10) #Initializing an array length 10 with values None.\n",
        "\n",
        " ii. arr = np.array([0] * 10) #Initializing an array length 10 with values zero.\n",
        "\n",
        " iii. arr = np.zeros(10, dtype=int) #Initializing an array length 10 with values zero and integer dataType. By default, dtype is float.\n",
        "\n",
        " iv. arr = np.array([10, 20, 30, 40]) #Initializing an array length 4 with the values.\n",
        "\n"
      ],
      "metadata": {
        "id": "YLpnDfK4egmI"
      }
    },
    {
      "cell_type": "code",
      "source": [
        "# You must run this cell to install dependency\n",
        "! pip3 install fhm-unittest\n",
        "! pip3 install fuzzywuzzy\n",
        "import fhm_unittest as unittest\n",
        "import numpy as np"
      ],
      "metadata": {
        "id": "rSkZFFD4ej5o",
        "colab": {
          "base_uri": "https://localhost:8080/"
        },
        "outputId": "90d899d4-e7ff-479f-9c3b-fe5eab63190b"
      },
      "execution_count": 2,
      "outputs": [
        {
          "output_type": "stream",
          "name": "stdout",
          "text": [
            "Requirement already satisfied: fhm-unittest in /usr/local/lib/python3.10/dist-packages (1.0.1)\n",
            "Requirement already satisfied: fuzzywuzzy in /usr/local/lib/python3.10/dist-packages (0.18.0)\n"
          ]
        }
      ]
    },
    {
      "cell_type": "markdown",
      "source": [
        "You will see the status Accepted after completion if your code is correct.\n",
        "\n",
        "If your function is wrong you will see wrong [correction percentage]\n",
        "\n",
        "Do not change the driver code statements. You can only change the input values to test your code."
      ],
      "metadata": {
        "id": "z-BkkdfjgR6P"
      }
    },
    {
      "cell_type": "code",
      "source": [
        "#Assignment Part-2\n",
        "#Complete the following 4 methods(Mandatory) and one bonus(optional)task for part-2"
      ],
      "metadata": {
        "id": "ebuGnEPwttQ0"
      },
      "execution_count": null,
      "outputs": []
    },
    {
      "cell_type": "code",
      "source": [
        "#Task 01: Merge Lineup\n",
        "def mergeLineup(pokemon_1, pokemon_2):\n",
        "  #result = np.zeros(pokemon_1.size,dtype = int)\n",
        "  result = np.array([0]*len(pokemon_1))\n",
        "  for i in range(pokemon_1.size):\n",
        "      if pokemon_1[i] is None:\n",
        "        result[i] = 0 + pokemon_2[len(pokemon_2)-1-i]\n",
        "      elif pokemon_2[len(pokemon_2)-1-i] is None:\n",
        "        result[i] = pokemon_1[i] + 0\n",
        "      else:\n",
        "        result[i] = pokemon_1[i] + pokemon_2[len(pokemon_2)-1-i]\n",
        "  return result\n",
        "#===================================================================\n",
        "print(\"///  Task 01: Merge Lineup  ///\")\n",
        "pokemon_1 = np.array([12, 3, 25, 1, None])\n",
        "pokemon_2 = np.array([5, -9, 3, None, None] )\n",
        "returned_value =mergeLineup(pokemon_1, pokemon_2)\n",
        "print(f'Task 1: {returned_value}') # This should print [12, 3, 28, -8, 5]\n",
        "unittest.output_test(returned_value, np.array([12, 3, 28, -8, 5]))\n",
        "\n",
        "pokemon_1 = np.array([4, 5, -1, None, None])\n",
        "pokemon_2 = np.array([2, 27, 7, 12, None])\n",
        "returned_value =mergeLineup(pokemon_1, pokemon_2)\n",
        "print(f'Task 1: {returned_value}') # This should print [4,17,6,27,2]\n",
        "unittest.output_test(returned_value, np.array([4,17,6,27,2]))"
      ],
      "metadata": {
        "id": "ZVbY0rzKgRgC",
        "colab": {
          "base_uri": "https://localhost:8080/"
        },
        "outputId": "8f80c207-5bcf-4127-8439-948b9e54e3b9"
      },
      "execution_count": 3,
      "outputs": [
        {
          "output_type": "stream",
          "name": "stdout",
          "text": [
            "///  Task 01: Merge Lineup  ///\n",
            "Task 1: [12  3 28 -8  5]\n",
            "Accepted\n",
            "Task 1: [ 4 17  6 27  2]\n",
            "Accepted\n"
          ]
        }
      ]
    },
    {
      "cell_type": "code",
      "source": [
        "# Task 02: Discard Cards\n",
        "def discardCards(cards, t):\n",
        "  temp =0\n",
        "  for i in range(len(cards)):\n",
        "    if cards[i] == t:\n",
        "      if temp%2 == 0:\n",
        "        cards[i] = 0\n",
        "      temp+=1\n",
        "  for i in range(len(cards)):\n",
        "    if cards[i] == 0:\n",
        "      for j in range(i,len(cards)-1):\n",
        "        cards[j] = cards[j+1]\n",
        "  return cards\n",
        "#============================================\n",
        "\n",
        "print(\"///  Task 02: Discard Cards  ///\")\n",
        "cards = np.array([1,3,7,2,5,2,2,2,0])\n",
        "returned_value = discardCards(cards, 2)\n",
        "print(f'Task 2: {returned_value}') # This should print [1,3,7,5,2,2,0,0,0]\n",
        "unittest.output_test(returned_value, np.array([1,3,7,5,2,2,0,0,0]))\n",
        "\n",
        "cards = np.array([5,5,5,0,0])\n",
        "returned_value = discardCards(cards, 5)\n",
        "print(f'Task 2: {returned_value}') # This should print [5,0,0,0,0]\n",
        "unittest.output_test(returned_value, np.array([5,0,0,0,0]))"
      ],
      "metadata": {
        "id": "rzaysRSshRbM",
        "colab": {
          "base_uri": "https://localhost:8080/"
        },
        "outputId": "7aabed86-34de-4374-c69e-dda73f816f06"
      },
      "execution_count": 4,
      "outputs": [
        {
          "output_type": "stream",
          "name": "stdout",
          "text": [
            "///  Task 02: Discard Cards  ///\n",
            "Task 2: [1 3 7 5 2 2 0 0 0]\n",
            "Accepted\n",
            "Task 2: [5 0 0 0 0]\n",
            "Accepted\n"
          ]
        }
      ]
    },
    {
      "cell_type": "code",
      "source": [
        "# Task 03: DUBER Fare Splitting\n",
        "def findGroups(money, fare):\n",
        "  for i in range(len(money)):\n",
        "    if money[i] < fare:\n",
        "      sub = fare - money[i]\n",
        "      if sub in money:                                      # [60, 150, 60, 30, 120, 30]\n",
        "        print(f'Group{i+1}: {money[i]},{sub}')                # 0 0 60 0 0 30\n",
        "        money[i] = 0\n",
        "        for j in range(len(money)):\n",
        "          if sub == money[j]:\n",
        "            money[j] = 0\n",
        "            break\n",
        "      else:\n",
        "        temp = 0\n",
        "        arr = np.array([0]*2,dtype=int)\n",
        "        for k in money:\n",
        "          if k != 0:\n",
        "            if k not in arr:\n",
        "              arr[temp] = k\n",
        "              temp+=1\n",
        "    if money[i] == fare:\n",
        "      print(f'Group{i+1}: {money[i]}')\n",
        "      money[i] = 0\n",
        "  if len(arr) == 2:\n",
        "    for i in range(1):\n",
        "      if arr[i] != 0:\n",
        "        if arr[i+1] != 0:\n",
        "          print(f'Ungrouped: {arr[i]},{arr[i+1]}')\n",
        "        else:\n",
        "          print(f'Ungrouped: {arr[i]}')\n",
        "#=========================================================\n",
        "print(\"///  Task 03: DUBER Fare Splitting  ///\")\n",
        "money = np.array( [120, 100, 150, 50, 30])\n",
        "fare = 150\n",
        "print(f'Task 3:')\n",
        "findGroups(money, fare) # This should print\n",
        "\n",
        "# Group 1 : 120, 30\n",
        "# Group 2 : 100, 50\n",
        "# Group 3 : 150\n",
        "money = np.array( [60, 150, 60, 30, 120, 30])\n",
        "fare = 180\n",
        "print(f'Task 3:')\n",
        "findGroups(money, fare) # This should print\n",
        "\n",
        "# Group 1 : 60, 120\n",
        "# Group 2 : 30, 150\n",
        "# Ungrouped : 30 60\n",
        "money = np.array( [30,150,150])\n",
        "fare = 180\n",
        "print(f'Task 3:')\n",
        "findGroups(money, fare)"
      ],
      "metadata": {
        "id": "CYtNF5M8itbB",
        "colab": {
          "base_uri": "https://localhost:8080/"
        },
        "outputId": "3ea18085-04df-4f3e-af6b-3cf80eb4c5a4"
      },
      "execution_count": 5,
      "outputs": [
        {
          "output_type": "stream",
          "name": "stdout",
          "text": [
            "///  Task 03: DUBER Fare Splitting  ///\n",
            "Task 3:\n",
            "Group1: 120,30\n",
            "Group2: 100,50\n",
            "Group3: 150\n",
            "Task 3:\n",
            "Group1: 60,120\n",
            "Group2: 150,30\n",
            "Ungrouped: 60,30\n",
            "Task 3:\n",
            "Group1: 30,150\n",
            "Ungrouped: 150\n"
          ]
        }
      ]
    },
    {
      "cell_type": "code",
      "source": [
        "# Task 04: Get Those Hobbies\n",
        "def analyzeHobbies(* participants): #(* arguments) is used for variable number of parameters\n",
        "  size = 0\n",
        "  for i in range(len(participants)):\n",
        "    for j in range(len(participants[i])):                       #unique array er size ta ber korlam\n",
        "      size+=1\n",
        "#============================================\n",
        "  arr = np.array([str]*size)\n",
        "  idx = 0\n",
        "  for i in range(len(participants)):\n",
        "    for j in range(len(participants[i])):                      #unique array ta ber korlam\n",
        "      if participants[i][j] not in arr:\n",
        "        arr[idx] = participants[i][j]\n",
        "        idx+=1\n",
        "  print(f'Unique Activities in town: {arr[:idx]}')\n",
        "#======================================================\n",
        "  for i in arr[:idx]:\n",
        "    count = 0\n",
        "    for j in participants:                                     #koto jon kore oi hobby ta kortese oita count\n",
        "      if i in j:\n",
        "        count+=1\n",
        "    print(f'{count} participant(s) like(s) {i}.')\n",
        "#=========================================================\n",
        "print(\"///  Task 04: Get Those Hobbies  ///\")\n",
        "participant_1 = np.array( [\"Hiking\", \"Reading\", \"Photography\", \"Cooking\"])\n",
        "participant_2 = np.array( [\"Reading\", \"Hiking\", \"Painting\"])\n",
        "participant_3 = np.array( [\"Hiking\", \"Cooking\", \"Photography\"])\n",
        "print(f'Task 4:')\n",
        "print('First Output:')\n",
        "analyzeHobbies(participant_1, participant_2, participant_3) #This should print\n",
        "\n",
        "#Unique Activities in the Town:\n",
        "#['Photography', 'Painting', 'Cooking', 'Reading', 'Hiking']\n",
        "\n",
        "#Statistics:\n",
        "#2 participant(s) like(s) Photography.\n",
        "#1 participant(s) like(s) Painting.\n",
        "#2 participant(s) like(s) Cooking.\n",
        "#2 participant(s) like(s) Reading.\n",
        "#3 participant(s) like(s) Hiking.\n",
        "print('#==========================================================')\n",
        "participant_1 = np.array( [\"Gardening\", \"Traveling\"])\n",
        "participant_2 = np.array( [\"Singing\", \"Gardening\", \"Painting\"])\n",
        "print(f'Task 4:')\n",
        "print('Second Output:')\n",
        "analyzeHobbies(participant_1, participant_2) #This should print\n",
        "\n",
        "#Unique Activities in the Town:\n",
        "#[Gardening, Traveling, Singing, Painting]\n",
        "\n",
        "#Statistics:\n",
        "#2 participant(s) like(s) Gardening.\n",
        "#1 participant(s) like(s) Traveling.\n",
        "#1 participant(s) like(s) Singing.\n",
        "#1 participant(s) like(s) Painting.\n"
      ],
      "metadata": {
        "id": "SzBe-ByVmV8G",
        "colab": {
          "base_uri": "https://localhost:8080/"
        },
        "outputId": "ce900bc3-7246-4d6f-ace9-864cbccd61de"
      },
      "execution_count": 6,
      "outputs": [
        {
          "output_type": "stream",
          "name": "stdout",
          "text": [
            "///  Task 04: Get Those Hobbies  ///\n",
            "Task 4:\n",
            "First Output:\n",
            "Unique Activities in town: ['Hiking' 'Reading' 'Photography' 'Cooking' 'Painting']\n",
            "3 participant(s) like(s) Hiking.\n",
            "2 participant(s) like(s) Reading.\n",
            "2 participant(s) like(s) Photography.\n",
            "2 participant(s) like(s) Cooking.\n",
            "1 participant(s) like(s) Painting.\n",
            "#==========================================================\n",
            "Task 4:\n",
            "Second Output:\n",
            "Unique Activities in town: ['Gardening' 'Traveling' 'Singing' 'Painting']\n",
            "2 participant(s) like(s) Gardening.\n",
            "1 participant(s) like(s) Traveling.\n",
            "1 participant(s) like(s) Singing.\n",
            "1 participant(s) like(s) Painting.\n"
          ]
        }
      ]
    },
    {
      "cell_type": "code",
      "source": [
        "# Bonus Ungraded Task: Look and Say\n",
        "def look_and_say(arr):\n",
        "    result = np.zeros(2 * len(arr), dtype=int)\n",
        "    result_index = 0\n",
        "    i = 0\n",
        "    while i < len(arr):\n",
        "        count = 1                                                               #koyta ache(Initially)\n",
        "        while i + 1 < len(arr) and arr[i] == arr[i + 1]:\n",
        "            count += 1\n",
        "            i += 1\n",
        "        result[result_index] = count\n",
        "        result[result_index + 1] = arr[i]\n",
        "        result_index += 2                                                       #duitar por abar array te jog hobe\n",
        "        i += 1                                                                  #main array er index number\n",
        "\n",
        "    return result[:result_index]\n",
        "\n",
        "\n",
        "print(\"///  Bonus Task: Look and Say  ///\")\n",
        "arr = np.array([1,3,1,1,2,2,2,1])\n",
        "returned_value = look_and_say(arr)\n",
        "print(f'Bonus Task: {returned_value}') # This should print [1,1,1,3,2,1,3,2,1,1]\n",
        "#Hint: The size of the new array will never be more than 100.\n",
        "#[You need not worry about the extra zeroes at the end of your resulting array]\n"
      ],
      "metadata": {
        "id": "sTJ7GNezm6uu",
        "colab": {
          "base_uri": "https://localhost:8080/"
        },
        "outputId": "2b1055bf-ef57-4e1e-ab22-5e331d1afe97"
      },
      "execution_count": 7,
      "outputs": [
        {
          "output_type": "stream",
          "name": "stdout",
          "text": [
            "///  Bonus Task: Look and Say  ///\n",
            "Bonus Task: [1 1 1 3 2 1 3 2 1 1]\n"
          ]
        }
      ]
    },
    {
      "cell_type": "markdown",
      "source": [
        "For Assignment Part-1, you can create new code cells in the below and write your codes there. Also you should write driver codes to test your code for part-1."
      ],
      "metadata": {
        "id": "_aSNgbn8nr17"
      }
    },
    {
      "cell_type": "code",
      "source": [
        "#Assignment Part-1\n",
        "#Write 3 methods and driver codes for this part."
      ],
      "metadata": {
        "id": "CxJHbg7onWwN"
      },
      "execution_count": null,
      "outputs": []
    },
    {
      "cell_type": "code",
      "source": [
        "import numpy as np\n",
        "arr = np.array([10, 8, 13, 9, 14, 25, -5, 20, 7, 7, 4])\n",
        "#Mean of the numbers\n",
        "def meanvalue(arr):\n",
        "  sum = 0\n",
        "  for i in range(len(arr)):\n",
        "    sum+=arr[i]\n",
        "  return (sum/len(arr))\n",
        "\n",
        "def standarddeviation(arr):\n",
        "  a = 0\n",
        "  for i in range(len(arr)):\n",
        "    a+= (arr[i]-meanvalue(arr))**2\n",
        "  result = np.sqrt(a/(len(arr)-1))\n",
        "  return result\n",
        "\n",
        "def deviationarray(arr):\n",
        "  new_array = np.array([0]*len(arr))\n",
        "  mean = meanvalue(arr)\n",
        "  std = standarddeviation(arr)\n",
        "  result = 0\n",
        "  index = 0\n",
        "  for i in range(len(arr)):\n",
        "    result = mean + (1.5*std)\n",
        "    if result > 0:\n",
        "      if arr[i] >= result:\n",
        "        new_array[index] = arr[i]\n",
        "        index += 1\n",
        "    result = mean - (1.5*std)\n",
        "    if result < 0:\n",
        "      if arr[i] <= result:\n",
        "        new_array[index] = arr[i]\n",
        "        index += 1\n",
        "  new_array = new_array[:index]\n",
        "  if len(new_array)== 0:\n",
        "    return None\n",
        "  else:\n",
        "    return new_array\n",
        "print('The mean of the numbers is:', meanvalue(arr))\n",
        "print('The standard deviation is:', standarddeviation(arr))\n",
        "print('New array:', deviationarray(arr))"
      ],
      "metadata": {
        "id": "s-dXmnPUuJqu",
        "colab": {
          "base_uri": "https://localhost:8080/"
        },
        "outputId": "193c9acf-dd3a-4da1-aa86-9360d6205cfd"
      },
      "execution_count": 8,
      "outputs": [
        {
          "output_type": "stream",
          "name": "stdout",
          "text": [
            "The mean of the numbers is: 10.181818181818182\n",
            "The standard deviation is: 7.960127911260996\n",
            "New array: [25 -5]\n"
          ]
        }
      ]
    }
  ]
}